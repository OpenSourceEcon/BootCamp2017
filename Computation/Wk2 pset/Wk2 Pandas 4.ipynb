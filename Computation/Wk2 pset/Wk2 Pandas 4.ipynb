{
 "cells": [
  {
   "cell_type": "code",
   "execution_count": 187,
   "metadata": {
    "collapsed": true
   },
   "outputs": [],
   "source": [
    "import datetime as datetime\n",
    "import numpy as np\n",
    "import pandas as pd\n",
    "import matplotlib.pyplot as plt\n",
    "from pandas.tseries.offsets import MonthEnd"
   ]
  },
  {
   "cell_type": "markdown",
   "metadata": {},
   "source": [
    "Question #1"
   ]
  },
  {
   "cell_type": "code",
   "execution_count": 104,
   "metadata": {},
   "outputs": [
    {
     "data": {
      "text/html": [
       "<div>\n",
       "<style>\n",
       "    .dataframe thead tr:only-child th {\n",
       "        text-align: right;\n",
       "    }\n",
       "\n",
       "    .dataframe thead th {\n",
       "        text-align: left;\n",
       "    }\n",
       "\n",
       "    .dataframe tbody tr th {\n",
       "        vertical-align: top;\n",
       "    }\n",
       "</style>\n",
       "<table border=\"1\" class=\"dataframe\">\n",
       "  <thead>\n",
       "    <tr style=\"text-align: right;\">\n",
       "      <th></th>\n",
       "      <th>VALUE</th>\n",
       "    </tr>\n",
       "    <tr>\n",
       "      <th>Datetime</th>\n",
       "      <th></th>\n",
       "    </tr>\n",
       "  </thead>\n",
       "  <tbody>\n",
       "    <tr>\n",
       "      <th>2006-09-27</th>\n",
       "      <td>11689.24</td>\n",
       "    </tr>\n",
       "    <tr>\n",
       "      <th>2006-09-28</th>\n",
       "      <td>11718.45</td>\n",
       "    </tr>\n",
       "    <tr>\n",
       "      <th>2006-09-29</th>\n",
       "      <td>11679.07</td>\n",
       "    </tr>\n",
       "    <tr>\n",
       "      <th>2006-10-02</th>\n",
       "      <td>11670.35</td>\n",
       "    </tr>\n",
       "    <tr>\n",
       "      <th>2006-10-03</th>\n",
       "      <td>11727.34</td>\n",
       "    </tr>\n",
       "  </tbody>\n",
       "</table>\n",
       "</div>"
      ],
      "text/plain": [
       "               VALUE\n",
       "Datetime            \n",
       "2006-09-27  11689.24\n",
       "2006-09-28  11718.45\n",
       "2006-09-29  11679.07\n",
       "2006-10-02  11670.35\n",
       "2006-10-03  11727.34"
      ]
     },
     "execution_count": 104,
     "metadata": {},
     "output_type": "execute_result"
    }
   ],
   "source": [
    "data1 = pd.read_csv(\"DJIA.csv\")\n",
    "data1['Datetime'] = pd.to_datetime(data1['DATE'])\n",
    "data1 = data1.set_index('Datetime')\n",
    "data1 = data1.drop(['DATE'], axis=1)\n",
    "data1 = data1['VALUE'].replace('.', np.nan)\n",
    "data1 = data1.dropna()\n",
    "data1 = pd.DataFrame(data1)\n",
    "data1.head()"
   ]
  },
  {
   "cell_type": "markdown",
   "metadata": {},
   "source": [
    "Question #2"
   ]
  },
  {
   "cell_type": "code",
   "execution_count": 148,
   "metadata": {},
   "outputs": [
    {
     "data": {
      "text/html": [
       "<div>\n",
       "<style>\n",
       "    .dataframe thead tr:only-child th {\n",
       "        text-align: right;\n",
       "    }\n",
       "\n",
       "    .dataframe thead th {\n",
       "        text-align: left;\n",
       "    }\n",
       "\n",
       "    .dataframe tbody tr th {\n",
       "        vertical-align: top;\n",
       "    }\n",
       "</style>\n",
       "<table border=\"1\" class=\"dataframe\">\n",
       "  <thead>\n",
       "    <tr style=\"text-align: right;\">\n",
       "      <th></th>\n",
       "      <th>Pay</th>\n",
       "    </tr>\n",
       "    <tr>\n",
       "      <th>Datetime</th>\n",
       "      <th></th>\n",
       "    </tr>\n",
       "  </thead>\n",
       "  <tbody>\n",
       "    <tr>\n",
       "      <th>2008-03-13</th>\n",
       "      <td>1122.26</td>\n",
       "    </tr>\n",
       "    <tr>\n",
       "      <th>2008-03-27</th>\n",
       "      <td>921.03</td>\n",
       "    </tr>\n",
       "    <tr>\n",
       "      <th>2008-04-10</th>\n",
       "      <td>962.46</td>\n",
       "    </tr>\n",
       "    <tr>\n",
       "      <th>2008-04-24</th>\n",
       "      <td>1035.97</td>\n",
       "    </tr>\n",
       "    <tr>\n",
       "      <th>2008-05-08</th>\n",
       "      <td>1078.59</td>\n",
       "    </tr>\n",
       "  </tbody>\n",
       "</table>\n",
       "</div>"
      ],
      "text/plain": [
       "                Pay\n",
       "Datetime           \n",
       "2008-03-13  1122.26\n",
       "2008-03-27   921.03\n",
       "2008-04-10   962.46\n",
       "2008-04-24  1035.97\n",
       "2008-05-08  1078.59"
      ]
     },
     "execution_count": 148,
     "metadata": {},
     "output_type": "execute_result"
    }
   ],
   "source": [
    "dates = pd.date_range(start=\"03/13/2008\", periods=93,freq=\"14D\")\n",
    "data2 = pd.read_csv(\"paychecks.csv\",header=None)\n",
    "data2.columns = ['Pay']\n",
    "data2['Datetime'] = pd.to_datetime(dates)\n",
    "data2 = data2.set_index('Datetime')\n",
    "data2.head()"
   ]
  },
  {
   "cell_type": "markdown",
   "metadata": {},
   "source": [
    "Question #3"
   ]
  },
  {
   "cell_type": "code",
   "execution_count": 158,
   "metadata": {},
   "outputs": [
    {
     "data": {
      "image/png": "[encoded data removed]",
      "text/plain": [
       "<matplotlib.figure.Figure at 0x28e35cedcc0>"
      ]
     },
     "metadata": {},
     "output_type": "display_data"
    }
   ],
   "source": [
    "X,Y = data2.index, data2[\"Pay\"]\n",
    "plt.plot(X,Y,'o')\n",
    "plt.xlabel(\"Data\")\n",
    "plt.ylabel(\"Pay in USD\")\n",
    "plt.title(\"Pay in USD by Year\")\n",
    "plt.show()"
   ]
  },
  {
   "cell_type": "markdown",
   "metadata": {},
   "source": [
    "Question #4"
   ]
  },
  {
   "cell_type": "code",
   "execution_count": 211,
   "metadata": {
    "scrolled": false
   },
   "outputs": [
    {
     "data": {
      "text/html": [
       "<div>\n",
       "<style>\n",
       "    .dataframe thead tr:only-child th {\n",
       "        text-align: right;\n",
       "    }\n",
       "\n",
       "    .dataframe thead th {\n",
       "        text-align: left;\n",
       "    }\n",
       "\n",
       "    .dataframe tbody tr th {\n",
       "        vertical-align: top;\n",
       "    }\n",
       "</style>\n",
       "<table border=\"1\" class=\"dataframe\">\n",
       "  <thead>\n",
       "    <tr style=\"text-align: right;\">\n",
       "      <th></th>\n",
       "      <th>EARNINGS</th>\n",
       "      <th>EXPENSES</th>\n",
       "    </tr>\n",
       "    <tr>\n",
       "      <th>Quarter</th>\n",
       "      <th></th>\n",
       "      <th></th>\n",
       "    </tr>\n",
       "  </thead>\n",
       "  <tbody>\n",
       "    <tr>\n",
       "      <th>1978Q3</th>\n",
       "      <td>372572.16</td>\n",
       "      <td>122611.27</td>\n",
       "    </tr>\n",
       "    <tr>\n",
       "      <th>1978Q4</th>\n",
       "      <td>419440.58</td>\n",
       "      <td>133176.18</td>\n",
       "    </tr>\n",
       "    <tr>\n",
       "      <th>1979Q1</th>\n",
       "      <td>419766.49</td>\n",
       "      <td>154670.69</td>\n",
       "    </tr>\n",
       "    <tr>\n",
       "      <th>1979Q2</th>\n",
       "      <td>361453.31</td>\n",
       "      <td>209360.42</td>\n",
       "    </tr>\n",
       "    <tr>\n",
       "      <th>1979Q3</th>\n",
       "      <td>354463.33</td>\n",
       "      <td>174147.13</td>\n",
       "    </tr>\n",
       "  </tbody>\n",
       "</table>\n",
       "</div>"
      ],
      "text/plain": [
       "          EARNINGS   EXPENSES\n",
       "Quarter                      \n",
       "1978Q3   372572.16  122611.27\n",
       "1978Q4   419440.58  133176.18\n",
       "1979Q1   419766.49  154670.69\n",
       "1979Q2   361453.31  209360.42\n",
       "1979Q3   354463.33  174147.13"
      ]
     },
     "execution_count": 211,
     "metadata": {},
     "output_type": "execute_result"
    }
   ],
   "source": [
    "dates_p = pd.period_range(start=\"1978-09\", periods=84,freq=\"Q-DEC\")\n",
    "data3 = pd.read_csv(\"finances.csv\")\n",
    "data3b = pd.DataFrame(dates_p)\n",
    "data3['Quarter'] = data3b\n",
    "data3 = data3.set_index('Quarter')\n",
    "data3.head()"
   ]
  },
  {
   "cell_type": "markdown",
   "metadata": {},
   "source": [
    "Question #5"
   ]
  },
  {
   "cell_type": "code",
   "execution_count": 128,
   "metadata": {
    "scrolled": false
   },
   "outputs": [],
   "source": [
    "data = pd.read_csv(\"website_traffic.csv\")\n",
    "data.ENTER = pd.to_datetime(data.ENTER,format='%Y-%m-%d %H:%M:%S')\n",
    "data.LEAVE = pd.to_datetime(data.LEAVE,format='%Y-%m-%d %H:%M:%S')\n",
    "time = pd.Period(\"2016-10-07 01:00:00\")\n",
    "#data = data.set_index(time)\n",
    "#data.head()"
   ]
  },
  {
   "cell_type": "markdown",
   "metadata": {
    "collapsed": true
   },
   "source": [
    "Question #6"
   ]
  },
  {
   "cell_type": "code",
   "execution_count": 236,
   "metadata": {
    "scrolled": false
   },
   "outputs": [
    {
     "name": "stdout",
     "output_type": "stream",
     "text": [
      "Largest Gain (Day)    : 936.42\n",
      "Largest Loss (Day)    : -777.68\n",
      "---------------------------------\n",
      "Largest Gain (Month)  : 748.632380952\n",
      "Largest Loss (Month)  : -715.179047619\n"
     ]
    }
   ],
   "source": [
    "data = pd.read_csv(\"DJIA.csv\")\n",
    "data['Datetime'] = pd.to_datetime(data['DATE'])\n",
    "data = data.set_index('Datetime')\n",
    "data = data.drop(['DATE'], axis=1)\n",
    "data = data['VALUE'].replace('.', np.nan)\n",
    "data = data.dropna()\n",
    "data = pd.DataFrame(data)\n",
    "\n",
    "data.VALUE = pd.to_numeric(data.VALUE, errors='coerce')\n",
    "data_s = data.VALUE.shift(1)\n",
    "data_s = pd.to_numeric(data_s)\n",
    "day = data.VALUE - data_s\n",
    "day = day.dropna()\n",
    "\n",
    "print(\"Largest Gain (Day)    :\", max(day))\n",
    "print(\"Largest Loss (Day)    :\", min(day))\n",
    "\n",
    "data2 = data.resample('m').mean()\n",
    "data2 = data2.drop([data2.index[0], data2.index[120]])\n",
    "data2.VALUE = pd.to_numeric(data2.VALUE, errors='coerce')\n",
    "data_s2 = data2.VALUE.shift(1)\n",
    "data_s2 = pd.to_numeric(data_s2)\n",
    "day2 = data2.VALUE - data_s\n",
    "day2 = day2.dropna()\n",
    "\n",
    "print(\"---------------------------------\")\n",
    "print(\"Largest Gain (Month)  :\", max(day2))\n",
    "print(\"Largest Loss (Month)  :\", min(day2))\n"
   ]
  },
  {
   "cell_type": "markdown",
   "metadata": {},
   "source": [
    "Question #7"
   ]
  },
  {
   "cell_type": "code",
   "execution_count": 269,
   "metadata": {},
   "outputs": [
    {
     "data": {
      "image/png": "[encoded data removed]",
      "text/plain": [
       "<matplotlib.figure.Figure at 0x1aec6e202b0>"
      ]
     },
     "metadata": {},
     "output_type": "display_data"
    }
   ],
   "source": [
    "data = pd.read_csv(\"DJIA.csv\")\n",
    "data['Datetime'] = pd.to_datetime(data['DATE'])\n",
    "data = data.set_index('Datetime')\n",
    "data = data.drop(['DATE'], axis=1)\n",
    "data = data['VALUE'].replace('.', np.nan)\n",
    "data = data.dropna()\n",
    "data = pd.DataFrame(data)\n",
    "\n",
    "data1 = data.copy()\n",
    "plt.plot(data1.index,data1.VALUE,'-',color='r',label=\"Original\")\n",
    "plt.xlabel(\"Year\")\n",
    "plt.ylabel(\"Value in USD\")\n",
    "plt.title(\"NASDAQ Market Value by Year (in USD)\")\n",
    "\n",
    "data2 = data.rolling(30).mean()\n",
    "plt.plot(data2.index,data2.VALUE,'-',color='y',label=\"Weighted (30)\")\n",
    "\n",
    "data3 = data.rolling(365).mean()\n",
    "plt.plot(data3.index,data3.VALUE,'-',color='g',label=\"Weighted (365)\")\n",
    "\n",
    "data4 = data.ewm(span=30).mean()\n",
    "plt.plot(data4.index,data4.VALUE,'-',color='b',label=\"Exp Weighted (30)\")\n",
    "\n",
    "data5 = data.ewm(span=365).mean()\n",
    "plt.plot(data5.index,data5.VALUE,'-',color='m',label=\"Exp Weighted (365)\")\n",
    "\n",
    "plt.legend()\n",
    "\n",
    "plt.show()"
   ]
  },
  {
   "cell_type": "code",
   "execution_count": null,
   "metadata": {
    "collapsed": true
   },
   "outputs": [],
   "source": []
  }
 ],
 "metadata": {
  "kernelspec": {
   "display_name": "Python 3",
   "language": "python",
   "name": "python3"
  },
  "language_info": {
   "codemirror_mode": {
    "name": "ipython",
    "version": 3
   },
   "file_extension": ".py",
   "mimetype": "text/x-python",
   "name": "python",
   "nbconvert_exporter": "python",
   "pygments_lexer": "ipython3",
   "version": "3.6.1"
  }
 },
 "nbformat": 4,
 "nbformat_minor": 2
}
