{
 "cells": [
  {
   "cell_type": "code",
   "execution_count": 3,
   "metadata": {
    "collapsed": false
   },
   "outputs": [
   ],
   "source": [
    "import pandas as pd\n",
    "import numpy as np\n",
    "from matplotlib import pyplot as plt"
   ]
  },
  {
   "cell_type": "markdown",
   "metadata": {
    "collapsed": false
   },
   "source": [
    "Question #1"
   ]
  },
  {
   "cell_type": "code",
   "execution_count": 10,
   "metadata": {
    "collapsed": false
   },
   "outputs": [
    {
     "name": "stdout",
     "output_type": "stream",
     "text": [
      "2    -3\n",
      "4    -3\n",
      "6    -3\n",
      "8    -3\n",
      "10   -3\n",
      "dtype: int64\n",
      "Bill    31\n",
      "Jane    34\n",
      "Joe     26\n",
      "Sara    28\n",
      "dtype: int64\n"
     ]
    }
   ],
   "source": [
    "val = -3\n",
    "p1 = pd.Series(-3,np.arange(2,12,2))\n",
    "data = {'Bill':31,'Sara':28,'Jane':34,'Joe':26}\n",
    "p2 = pd.Series(data)\n",
    "print p1\n",
    "print p2"
   ]
  },
  {
   "cell_type": "markdown",
   "metadata": {
    "collapsed": false
   },
   "source": [
    "Question #2"
   ]
  },
  {
   "cell_type": "code",
   "execution_count": 25,
   "metadata": {
    "collapsed": false
   },
   "outputs": [
    {
     "data": {
      "image/png": "[encoded data removed]"
     }
    },
    {
     "data": {
      "image/png": "[encoded data removed]"
     }
    }
   ],
   "source": [
    "def walker(n,b):\n",
    "    s = np.zeros(n)\n",
    "    s[1:] = np.random.binomial(1, .5+b, size=(n-1,))*2-1\n",
    "    s = pd.Series(s)\n",
    "    s = s.cumsum()\n",
    "    return s\n",
    "\n",
    "walk1 = walker(100,0)\n",
    "walk1.plot()\n",
    "walk2 = walker(100,0)\n",
    "walk2.plot()\n",
    "walk3 = walker(100,0)\n",
    "walk3.plot()\n",
    "walk4 = walker(100,0)\n",
    "walk4.plot()\n",
    "walk5 = walker(100,0)\n",
    "walk5.plot()\n",
    "plt.show()\n",
    "\n",
    "b_walk2 = walker(100,0.01)\n",
    "plt.subplot(311)\n",
    "b_walk2.plot()\n",
    "plt.tight_layout()\n",
    "b_walk3 = walker(1000,0.01)\n",
    "plt.subplot(312)\n",
    "b_walk3.plot()\n",
    "plt.tight_layout()\n",
    "b_walk4 = walker(10000,0.01)\n",
    "plt.subplot(313)\n",
    "b_walk4.plot()\n",
    "plt.tight_layout()\n",
    "plt.show()"
   ]
  },
  {
   "cell_type": "markdown",
   "metadata": {
    "collapsed": false
   },
   "source": [
    "Question #3"
   ]
  },
  {
   "cell_type": "raw",
   "metadata": {
    "collapsed": false
   },
   "source": [
    "StudentInfo[(StudentInfo['Age']>19) & (StudentInfo['Sex']=='M')][['ID','Name']]"
   ]
  },
  {
   "cell_type": "markdown",
   "metadata": {
    "collapsed": false
   },
   "source": [
    "Question #4"
   ]
  },
  {
   "cell_type": "raw",
   "metadata": {
    "collapsed": false
   },
   "source": [
    "pd.merge(studentInfo, otherInfo, on='ID', how='outer')[['ID', 'Age', 'GPA']]"
   ]
  },
  {
   "cell_type": "markdown",
   "metadata": {
    "collapsed": false
   },
   "source": [
    "Question #5"
   ]
  },
  {
   "cell_type": "code",
   "execution_count": 2,
   "metadata": {
    "collapsed": false
   },
   "outputs": [
    {
     "ename": "NameError",
     "evalue": "name 'pd' is not defined",
     "output_type": "error",
     "traceback": [
      "\u001b[0;31m---------------------------------------------------------------------------\u001b[0m",
      "\u001b[0;31mNameError\u001b[0m                                 Traceback (most recent call last)",
      "\u001b[0;32m<ipython-input-2-dacfcbac308d>\u001b[0m in \u001b[0;36m<module>\u001b[0;34m()\u001b[0m\n\u001b[0;32m----> 1\u001b[0;31m \u001b[0mdata\u001b[0m \u001b[0;34m=\u001b[0m \u001b[0mpd\u001b[0m\u001b[0;34m.\u001b[0m\u001b[0mread_csv\u001b[0m\u001b[0;34m(\u001b[0m\u001b[0;34m'crime_data.txt'\u001b[0m\u001b[0;34m,\u001b[0m \u001b[0msep\u001b[0m\u001b[0;34m=\u001b[0m\u001b[0;34m\",\"\u001b[0m\u001b[0;34m,\u001b[0m \u001b[0mheader\u001b[0m \u001b[0;34m=\u001b[0m \u001b[0;36m0\u001b[0m\u001b[0;34m)\u001b[0m\u001b[0;34m\u001b[0m\u001b[0m\n\u001b[0m\u001b[1;32m      2\u001b[0m \u001b[0mdata\u001b[0m \u001b[0;34m=\u001b[0m \u001b[0mpd\u001b[0m\u001b[0;34m.\u001b[0m\u001b[0mDataFrame\u001b[0m\u001b[0;34m(\u001b[0m\u001b[0mdata\u001b[0m\u001b[0;34m)\u001b[0m\u001b[0;34m\u001b[0m\u001b[0m\n\u001b[1;32m      3\u001b[0m \u001b[0mdata\u001b[0m\u001b[0;34m.\u001b[0m\u001b[0mdropna\u001b[0m\u001b[0;34m(\u001b[0m\u001b[0;34m)\u001b[0m\u001b[0;34m\u001b[0m\u001b[0m\n\u001b[1;32m      4\u001b[0m \u001b[0mdata\u001b[0m\u001b[0;34m[\u001b[0m\u001b[0;34m'Rate'\u001b[0m\u001b[0;34m]\u001b[0m \u001b[0;34m=\u001b[0m \u001b[0mdata\u001b[0m\u001b[0;34m[\u001b[0m\u001b[0;34m'Total'\u001b[0m\u001b[0;34m]\u001b[0m\u001b[0;34m/\u001b[0m\u001b[0mdata\u001b[0m\u001b[0;34m[\u001b[0m\u001b[0;34m'Population'\u001b[0m\u001b[0;34m]\u001b[0m\u001b[0;34m\u001b[0m\u001b[0m\n\u001b[1;32m      5\u001b[0m \u001b[0;34m\u001b[0m\u001b[0m\n",
      "\u001b[0;31mNameError\u001b[0m: name 'pd' is not defined"
     ]
    }
   ],
   "source": [
    "data = pd.read_csv('crime_data.txt', sep=\",\", header = 0)\n",
    "data = pd.DataFrame(data)\n",
    "data.dropna()\n",
    "data['Rate'] = data['Total']/data['Population']\n",
    "\n",
    "plt.plot(data['Year'], data['Rate'])\n",
    "plt.title(\"Crime Rate by Year\")\n",
    "plt.show\n",
    "\n",
    "Rate_sort = data.sort_values('Rate', ascending=False)\n",
    "Rate_sort.head(5)\n",
    "\n",
    "av_data = data.mean(axis=0)\n",
    "# Average total = 10,638,070            Average burglary = 2,446,386\n",
    "\n",
    "data_w = data[(data['Burglary']>2446386) & (data['Total']<10638070)][['Year']]\n",
    "# 1973, 1974\n",
    "\n",
    "plt.plot(data['Population'], data['Murder'])\n",
    "plt.title(\"Murder Rate by Population Size\")\n",
    "plt.show\n",
    "\n",
    "data"
   ]
  },
  {
   "cell_type": "code",
   "execution_count": 0,
   "metadata": {
    "collapsed": false
   },
   "outputs": [
   ],
   "source": [
   ]
  }
 ],
 "metadata": {
  "kernelspec": {
   "display_name": "Python 2 (SageMath)",
   "language": "python",
   "name": "python2"
  }
 },
 "nbformat": 4,
 "nbformat_minor": 0
}