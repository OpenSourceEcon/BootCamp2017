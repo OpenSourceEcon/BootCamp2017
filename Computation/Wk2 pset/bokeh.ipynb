{
 "cells": [
  {
   "cell_type": "code",
   "execution_count": 17,
   "metadata": {
    "collapsed": false,
    "scrolled": true
   },
   "outputs": [
   ],
   "source": [
    "import numpy as np\n",
    "import pandas as pd\n",
    "from pyproj import Proj, transform\n",
    "\n",
    "accidents = pd.read_pickle(\"final_accidents2.pickle\")\n",
    "drivers = pd.read_pickle(\"final_drivers.pickle\")"
   ]
  },
  {
   "cell_type": "markdown",
   "metadata": {
    "collapsed": false
   },
   "source": [
    "Question #2"
   ]
  },
  {
   "cell_type": "code",
   "execution_count": 0,
   "metadata": {
    "collapsed": false
   },
   "outputs": [
   ],
   "source": [
    "from_proj = Proj(init=\"epsg:4326\")\n",
    "to_proj = Proj(init=\"epsg:3857\")\n",
    "\n",
    "def convert(longitudes, latitudes):\n",
    "    \"\"\"Converts latlon coordinates to meters.\n",
    "    Inputs:\n",
    "    longitudes (array-like) : array of longitudes\n",
    "    latitudes (array-like) : array of latitudes\n",
    "    Example:\n",
    "    x,y = convert(accidents.LONGITUD, accidents.LATITUDE)\n",
    "    \"\"\"\n",
    "    x_vals = []\n",
    "    y_vals = []\n",
    "    for lon, lat in zip(longitudes, latitudes):\n",
    "        x, y = transform(from_proj, to_proj, lon, lat)\n",
    "        x_vals.append(x)\n",
    "        y_vals.append(y)\n",
    "    return x_vals, y_vals\n",
    "\n",
    "accidents[\"x\"],accidents[\"y\"] = convert(accidents.LONGITUD, accidents.LATITUDE)"
   ]
  },
  {
   "cell_type": "markdown",
   "metadata": {
    "collapsed": false
   },
   "source": [
    "Question #4"
   ]
  },
  {
   "cell_type": "code",
   "execution_count": 18,
   "metadata": {
    "collapsed": false
   },
   "outputs": [
    {
     "data": {
      "text/html": [
       "<div style=\"display: table;\"><div style=\"display: table-row;\"><div style=\"display: table-cell;\"><b title=\"bokeh.models.renderers.TileRenderer\">TileRenderer</b>(</div><div style=\"display: table-cell;\">id&nbsp;=&nbsp;'3e55d6a4-aa4c-4cbf-8287-0a383190eec9', <span id=\"98172dd0-b416-4724-a762-bae33d33b5ab\" style=\"cursor: pointer;\">&hellip;)</span></div></div><div class=\"244f8e8e-bbcc-4e13-9dda-58106a1a7280\" style=\"display: none;\"><div style=\"display: table-cell;\"></div><div style=\"display: table-cell;\">alpha&nbsp;=&nbsp;1.0,</div></div><div class=\"244f8e8e-bbcc-4e13-9dda-58106a1a7280\" style=\"display: none;\"><div style=\"display: table-cell;\"></div><div style=\"display: table-cell;\">js_event_callbacks&nbsp;=&nbsp;{},</div></div><div class=\"244f8e8e-bbcc-4e13-9dda-58106a1a7280\" style=\"display: none;\"><div style=\"display: table-cell;\"></div><div style=\"display: table-cell;\">js_property_callbacks&nbsp;=&nbsp;{},</div></div><div class=\"244f8e8e-bbcc-4e13-9dda-58106a1a7280\" style=\"display: none;\"><div style=\"display: table-cell;\"></div><div style=\"display: table-cell;\">level&nbsp;=&nbsp;'underlay',</div></div><div class=\"244f8e8e-bbcc-4e13-9dda-58106a1a7280\" style=\"display: none;\"><div style=\"display: table-cell;\"></div><div style=\"display: table-cell;\">name&nbsp;=&nbsp;None,</div></div><div class=\"244f8e8e-bbcc-4e13-9dda-58106a1a7280\" style=\"display: none;\"><div style=\"display: table-cell;\"></div><div style=\"display: table-cell;\">render_parents&nbsp;=&nbsp;True,</div></div><div class=\"244f8e8e-bbcc-4e13-9dda-58106a1a7280\" style=\"display: none;\"><div style=\"display: table-cell;\"></div><div style=\"display: table-cell;\">subscribed_events&nbsp;=&nbsp;[],</div></div><div class=\"244f8e8e-bbcc-4e13-9dda-58106a1a7280\" style=\"display: none;\"><div style=\"display: table-cell;\"></div><div style=\"display: table-cell;\">tags&nbsp;=&nbsp;[],</div></div><div class=\"244f8e8e-bbcc-4e13-9dda-58106a1a7280\" style=\"display: none;\"><div style=\"display: table-cell;\"></div><div style=\"display: table-cell;\">tile_source&nbsp;=&nbsp;WMTSTileSource(id='6d5c04ee-07eb-4e45-8f11-b333b851a7d4', ...),</div></div><div class=\"244f8e8e-bbcc-4e13-9dda-58106a1a7280\" style=\"display: none;\"><div style=\"display: table-cell;\"></div><div style=\"display: table-cell;\">visible&nbsp;=&nbsp;True,</div></div><div class=\"244f8e8e-bbcc-4e13-9dda-58106a1a7280\" style=\"display: none;\"><div style=\"display: table-cell;\"></div><div style=\"display: table-cell;\">x_range_name&nbsp;=&nbsp;'default',</div></div><div class=\"244f8e8e-bbcc-4e13-9dda-58106a1a7280\" style=\"display: none;\"><div style=\"display: table-cell;\"></div><div style=\"display: table-cell;\">y_range_name&nbsp;=&nbsp;'default')</div></div></div>\n",
       "<script>\n",
       "(function() {\n",
       "  var expanded = false;\n",
       "  var ellipsis = document.getElementById(\"98172dd0-b416-4724-a762-bae33d33b5ab\");\n",
       "  ellipsis.addEventListener(\"click\", function() {\n",
       "    var rows = document.getElementsByClassName(\"244f8e8e-bbcc-4e13-9dda-58106a1a7280\");\n",
       "    for (var i = 0; i < rows.length; i++) {\n",
       "      var el = rows[i];\n",
       "      el.style.display = expanded ? \"none\" : \"table-row\";\n",
       "    }\n",
       "    ellipsis.innerHTML = expanded ? \"&hellip;)\" : \"&lsaquo;&lsaquo;&lsaquo;\";\n",
       "    expanded = !expanded;\n",
       "  });\n",
       "})();\n",
       "</script>\n"
      ]
     },
     "execution_count": 18,
     "metadata": {
     },
     "output_type": "execute_result"
    }
   ],
   "source": [
    "from bokeh.plotting import Figure\n",
    "from bokeh.models import WMTSTileSource\n",
    "\n",
    "fig = Figure(plot_width=1100, plot_height=650,\n",
    "            x_range=(-13000000, -7000000), y_range=(2750000, 6250000),\n",
    "            tools=[\"wheel_zoom\", \"pan\"], active_scroll=\"wheel_zoom\", webgl=True)\n",
    "\n",
    "fig.axis.visible = False\n",
    "\n",
    "STAMEN_TONER_BACKGROUND = WMTSTileSource(\n",
    "    url='http://tile.stamen.com/toner-background/{Z}/{X}/{Y}.png',\n",
    "    attribution=(\n",
    "        'Map tiles by <a href=\"http://stamen.com\">Stamen Design</a>, '\n",
    "        'under <a href=\"http://creativecommons.org/licenses/by/3.0\">CC BY 3.0</a>.'\n",
    "        'Data by <a href=\"http://openstreetmap.org\">OpenStreetMap</a>, '\n",
    "        'under <a href=\"http://www.openstreetmap.org/copyright\">ODbL</a>'\n",
    "    )\n",
    ")\n",
    "\n",
    "fig.add_tile(STAMEN_TONER_BACKGROUND)"
   ]
  },
  {
   "cell_type": "code",
   "execution_count": 20,
   "metadata": {
    "collapsed": false
   },
   "outputs": [
    {
     "ename": "NameError",
     "evalue": "name 'accidents' is not defined",
     "output_type": "error",
     "traceback": [
      "\u001b[0;31m---------------------------------------------------------------------------\u001b[0m",
      "\u001b[0;31mNameError\u001b[0m                                 Traceback (most recent call last)",
      "\u001b[0;32m<ipython-input-20-33667e2f5c91>\u001b[0m in \u001b[0;36m<module>\u001b[0;34m()\u001b[0m\n\u001b[1;32m      2\u001b[0m \u001b[0;32mfrom\u001b[0m \u001b[0mbokeh\u001b[0m\u001b[0;34m.\u001b[0m\u001b[0mmodels\u001b[0m \u001b[0;32mimport\u001b[0m \u001b[0mHoverTool\u001b[0m\u001b[0;34m,\u001b[0m \u001b[0mColumnDataSource\u001b[0m\u001b[0;34m\u001b[0m\u001b[0m\n\u001b[1;32m      3\u001b[0m \u001b[0;34m\u001b[0m\u001b[0m\n\u001b[0;32m----> 4\u001b[0;31m \u001b[0mds\u001b[0m \u001b[0;34m=\u001b[0m \u001b[0maccidents\u001b[0m\u001b[0;34m[\u001b[0m\u001b[0;34m(\u001b[0m\u001b[0maccidents\u001b[0m\u001b[0;34m[\u001b[0m\u001b[0;34m'DRUNK_DR'\u001b[0m\u001b[0;34m]\u001b[0m \u001b[0;34m>\u001b[0m \u001b[0;36m0\u001b[0m\u001b[0;34m)\u001b[0m\u001b[0;34m&\u001b[0m\u001b[0;34m(\u001b[0m\u001b[0maccidents\u001b[0m\u001b[0;34m[\u001b[0m\u001b[0;34m'SP'\u001b[0m\u001b[0;34m]\u001b[0m \u001b[0;34m>\u001b[0m \u001b[0;36m0\u001b[0m\u001b[0;34m)\u001b[0m\u001b[0;34m]\u001b[0m\u001b[0;34m\u001b[0m\u001b[0m\n\u001b[0m\u001b[1;32m      5\u001b[0m \u001b[0md\u001b[0m  \u001b[0;34m=\u001b[0m \u001b[0maccidents\u001b[0m\u001b[0;34m[\u001b[0m\u001b[0;34m(\u001b[0m\u001b[0maccidents\u001b[0m\u001b[0;34m[\u001b[0m\u001b[0;34m'DRUNK_DR'\u001b[0m\u001b[0;34m]\u001b[0m \u001b[0;34m>\u001b[0m \u001b[0;36m0\u001b[0m\u001b[0;34m)\u001b[0m\u001b[0;34m&\u001b[0m\u001b[0;34m(\u001b[0m\u001b[0maccidents\u001b[0m\u001b[0;34m[\u001b[0m\u001b[0;34m'SP'\u001b[0m\u001b[0;34m]\u001b[0m \u001b[0;34m==\u001b[0m \u001b[0;36m0\u001b[0m\u001b[0;34m)\u001b[0m\u001b[0;34m]\u001b[0m\u001b[0;34m\u001b[0m\u001b[0m\n\u001b[1;32m      6\u001b[0m \u001b[0ms\u001b[0m  \u001b[0;34m=\u001b[0m \u001b[0maccidents\u001b[0m\u001b[0;34m[\u001b[0m\u001b[0;34m(\u001b[0m\u001b[0maccidents\u001b[0m\u001b[0;34m[\u001b[0m\u001b[0;34m'DRUNK_DR'\u001b[0m\u001b[0;34m]\u001b[0m \u001b[0;34m==\u001b[0m \u001b[0;36m0\u001b[0m\u001b[0;34m)\u001b[0m\u001b[0;34m&\u001b[0m\u001b[0;34m(\u001b[0m\u001b[0maccidents\u001b[0m\u001b[0;34m[\u001b[0m\u001b[0;34m'SP'\u001b[0m\u001b[0;34m]\u001b[0m \u001b[0;34m>\u001b[0m \u001b[0;36m0\u001b[0m\u001b[0;34m)\u001b[0m\u001b[0;34m]\u001b[0m\u001b[0;34m\u001b[0m\u001b[0m\n",
      "\u001b[0;31mNameError\u001b[0m: name 'accidents' is not defined"
     ]
    }
   ],
   "source": [
    "from bokeh.plotting import figure, show\n",
    "from bokeh.models import HoverTool, ColumnDataSource\n",
    "\n",
    "ds = accidents[(accidents['DRUNK_DR'] > 0)&(accidents['SP'] > 0)]\n",
    "d  = accidents[(accidents['DRUNK_DR'] > 0)&(accidents['SP'] == 0)]\n",
    "s  = accidents[(accidents['DRUNK_DR'] == 0)&(accidents['SP'] > 0)]\n",
    "o  = accidents[(accidents['DRUNK_DR'] == 0)&(accidents['SP'] == 0)]\n",
    "\n",
    "circle_ds = fig.circle(x=\"x\", y=\"y\", source=ds,size=0.5, color=\"red\")\n",
    "circle_d = fig.circle(x=\"x\", y=\"y\", source=d,size=0.5, color=\"yellow\")\n",
    "circle_s = fig.circle(x=\"x\", y=\"y\", source=s,size=0.5, color=\"green\")\n",
    "circle_0 = fig.circle(x=\"x\", y=\"y\", source=o,size=0.5, color= \"blue\")\n",
    "\n",
    "show(fig)"
   ]
  },
  {
   "cell_type": "code",
   "execution_count": 0,
   "metadata": {
    "collapsed": false
   },
   "outputs": [
   ],
   "source": [
   ]
  }
 ],
 "metadata": {
  "kernelspec": {
   "display_name": "Python 2 (SageMath)",
   "language": "python",
   "name": "python2"
  },
  "language_info": {
   "codemirror_mode": {
    "name": "ipython",
    "version": 2
   },
   "file_extension": ".py",
   "mimetype": "text/x-python",
   "name": "python",
   "nbconvert_exporter": "python",
   "pygments_lexer": "ipython2",
   "version": "2.7.13"
  }
 },
 "nbformat": 4,
 "nbformat_minor": 0
}