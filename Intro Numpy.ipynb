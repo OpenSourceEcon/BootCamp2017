{
 "cells": [
  {
   "cell_type": "code",
   "execution_count": 2,
   "metadata": {
    "collapsed": false
   },
   "outputs": [
   ],
   "source": [
    "import numpy as np"
   ]
  },
  {
   "cell_type": "markdown",
   "metadata": {
    "collapsed": false
   },
   "source": [
    "Question #1"
   ]
  },
  {
   "cell_type": "code",
   "execution_count": 2,
   "metadata": {
    "collapsed": false
   },
   "outputs": [
    {
     "name": "stdout",
     "output_type": "stream",
     "text": [
      "[[ 37  14 -32 -10]\n",
      " [-54  -7  58  65]]\n"
     ]
    }
   ],
   "source": [
    "def prob1():\n",
    "    A = np.array([[3, -1, 4],\n",
    "                  [1, 5, -9]])\n",
    "    B = np.array([[2, 6, -5, 3],\n",
    "                  [5, -8, 9, 7],\n",
    "                  [9, -3, -2, -3]])\n",
    "    prod = np.dot(A,B)\n",
    "    return prod\n",
    "\n",
    "print(prob1())"
   ]
  },
  {
   "cell_type": "markdown",
   "metadata": {
    "collapsed": false
   },
   "source": [
    "Question #2"
   ]
  },
  {
   "cell_type": "code",
   "execution_count": 36,
   "metadata": {
    "collapsed": false
   },
   "outputs": [
    {
     "name": "stdout",
     "output_type": "stream",
     "text": [
      "[[0 0 0]\n",
      " [0 0 0]\n",
      " [0 0 0]]\n"
     ]
    }
   ],
   "source": [
    "def prob2():\n",
    "    A = np.array([[3, 1, 4],\n",
    "                  [1, 5, 9],\n",
    "                  [-5, 3, 1]])\n",
    "    P = np.dot(A,A)\n",
    "    Q = np.dot(A,P)\n",
    "    return -Q + 9*P - 15*A\n",
    "\n",
    "print(prob2())"
   ]
  },
  {
   "cell_type": "markdown",
   "metadata": {
    "collapsed": false
   },
   "source": [
    "Question #3"
   ]
  },
  {
   "cell_type": "code",
   "execution_count": 3,
   "metadata": {
    "collapsed": false
   },
   "outputs": [
    {
     "name": "stdout",
     "output_type": "stream",
     "text": [
      "[[ -7  -8  -3   8  25  48  77]\n",
      " [ -6 -12 -12  -6   6  24  48]\n",
      " [ -5 -10 -15 -14  -7   6  25]\n",
      " [ -4  -8 -12 -16 -14  -6   8]\n",
      " [ -3  -6  -9 -12 -15 -12  -3]\n",
      " [ -2  -4  -6  -8 -10 -12  -8]\n",
      " [ -1  -2  -3  -4  -5  -6  -7]]\n"
     ]
    }
   ],
   "source": [
    "def prob3():\n",
    "    A = np.ones((7, 7), dtype = np.int)\n",
    "    B = A\n",
    "    A = np.triu(A)\n",
    "    B = -1*B\n",
    "    B = np.tril(B)\n",
    "    # I had a difficult time getting fill_diagonal() due to using Python 2\n",
    "    for i in range(0,7):\n",
    "        for j in range(0,7):\n",
    "            if B[i,j] == 0:\n",
    "                B[i,j] = 5\n",
    "    return np.dot(np.dot(A,B),A)\n",
    "print(prob3())"
   ]
  },
  {
   "cell_type": "markdown",
   "metadata": {
    "collapsed": false
   },
   "source": [
    "Question #4"
   ]
  },
  {
   "cell_type": "code",
   "execution_count": 38,
   "metadata": {
    "collapsed": false
   },
   "outputs": [
    {
     "name": "stdout",
     "output_type": "stream",
     "text": [
      "[[0 8 9 0 9]\n",
      " [6 6 5 0 3]\n",
      " [5 0 4 0 6]\n",
      " [0 0 3 0 0]\n",
      " [0 6 0 2 0]]\n"
     ]
    }
   ],
   "source": [
    "A = np.random.randint(-10, 10, size = (5,5))\n",
    "def prob4(a):\n",
    "    K = np.copy(a)\n",
    "    mask = K < 0\n",
    "    K[mask] = 0\n",
    "    return K\n",
    "\n",
    "print(prob4(A))"
   ]
  },
  {
   "cell_type": "markdown",
   "metadata": {
    "collapsed": false
   },
   "source": [
    "Question #5"
   ]
  },
  {
   "cell_type": "code",
   "execution_count": 39,
   "metadata": {
    "collapsed": false
   },
   "outputs": [
    {
     "name": "stdout",
     "output_type": "stream",
     "text": [
      "[[ 0.  0.  0.  0.  3.  1.  0.  0.]\n",
      " [ 0.  0.  0.  1.  4.  0.  1.  0.]\n",
      " [ 0.  0.  0.  2.  5.  0.  0.  1.]\n",
      " [ 0.  1.  2.  0.  0.  0.  0.  0.]\n",
      " [ 3.  4.  5.  0.  0.  0.  0.  0.]\n",
      " [ 3.  0.  0.  0.  0. -2. -0. -0.]\n",
      " [ 3.  3.  0.  0.  0. -0. -2. -0.]\n",
      " [ 3.  3.  3.  0.  0. -0. -0. -2.]]\n"
     ]
    }
   ],
   "source": [
    "def prob5():\n",
    "    A = np.arange(6).reshape(2,3)\n",
    "    AT = A.transpose()\n",
    "    B = np.tril(3*np.ones((3,3)))\n",
    "    C = -2*np.eye(3)\n",
    "    I = np.identity(3)\n",
    "    Z33 = 0*np.eye(3)\n",
    "    Z22 = 0*np.eye(2)\n",
    "    Z23 = np.zeros_like(A)\n",
    "    Z32 = Z23.transpose()\n",
    "    k1 = np.vstack((Z33, A, B))\n",
    "    k2 = np.vstack((AT, Z22, Z32))\n",
    "    k3 = np.vstack((I, Z23, C))\n",
    "    K  = np.hstack((k1, k2, k3))\n",
    "    return K\n",
    "\n",
    "print(prob5())"
   ]
  },
  {
   "cell_type": "markdown",
   "metadata": {
    "collapsed": false
   },
   "source": [
    "Question #6"
   ]
  },
  {
   "cell_type": "code",
   "execution_count": 40,
   "metadata": {
    "collapsed": false
   },
   "outputs": [
    {
     "name": "stdout",
     "output_type": "stream",
     "text": [
      "[[ 0.          0.33333333  0.66666667]\n",
      " [ 0.25        0.33333333  0.41666667]\n",
      " [ 0.28571429  0.33333333  0.38095238]]\n"
     ]
    }
   ],
   "source": [
    "K = np.arange(9, dtype = float).reshape((3,3))\n",
    "def prob6(A):\n",
    "    F = np.transpose(np.transpose(A) / A.sum(axis = 1))\n",
    "    return F\n",
    "\n",
    "print(prob6(K))"
   ]
  },
  {
   "cell_type": "markdown",
   "metadata": {
    "collapsed": false
   },
   "source": [
    "Question #7"
   ]
  },
  {
   "cell_type": "code",
   "execution_count": 24,
   "metadata": {
    "collapsed": false,
    "scrolled": true
   },
   "outputs": [
   ],
   "source": [
    "def prob7(K):\n",
    "    vh = np.max(K[:,:-3] * K[:,1:-2] * K[:,2:-1] * K[:,3:])\n",
    "    vv = np.max(K[:-3,:] * K[1:-2,:] * K[2:-1,:] * K[3:,:])\n",
    "    vr = np.max(K[:-3,:-3] * K[1:-2,1:-2] * K[2:-1,2:-1] * K[3:,3:])\n",
    "    vl = np.max(K[3:,:-3] * K[2:-1,1:-2] * K[1:-2,2:-1] * K[:-3,3:])\n",
    "    return max(vh,vv,vr,vl)\n",
    "\n",
    "#print(prob7(grid))"
   ]
  }
 ],
 "metadata": {
  "kernelspec": {
   "display_name": "Python 2 (SageMath)",
   "language": "python",
   "name": "python2"
  },
  "language_info": {
   "codemirror_mode": {
    "name": "ipython",
    "version": 2
   },
   "file_extension": ".py",
   "mimetype": "text/x-python",
   "name": "python",
   "nbconvert_exporter": "python",
   "pygments_lexer": "ipython2",
   "version": "2.7.13"
  }
 },
 "nbformat": 4,
 "nbformat_minor": 0
}